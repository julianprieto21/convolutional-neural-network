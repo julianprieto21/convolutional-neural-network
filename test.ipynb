{
 "cells": [
  {
   "cell_type": "code",
   "execution_count": 4,
   "metadata": {},
   "outputs": [],
   "source": [
    "from models.models import NeuralNetwork\n",
    "from training.optimizers import SGD\n",
    "from training.loss import cross_entropy\n",
    "from utils.metrics import accuracy\n",
    "import models.layers as layers\n",
    "from models.activations import ReLU, Softmax\n",
    "import numpy as np\n",
    "import random\n",
    "\n",
    "np.random.seed(21)\n",
    "random.seed(21)"
   ]
  },
  {
   "cell_type": "code",
   "execution_count": 6,
   "metadata": {},
   "outputs": [
    {
     "name": "stdout",
     "output_type": "stream",
     "text": [
      "Modelo de red neuronal con 6 capas:\n",
      "\tEntrada: (1, 28, 28)\n",
      "\tconv2d: Conv2D - (4, 26, 26)\n",
      "\tmax_pooling: MaxPool2D - (4, 8, 8)\n",
      "\tflatten: Flatten - (256,)\n",
      "\tdense: Dense - (32,)\n",
      "\tdense: Dense - (10,)\n",
      "Optimizador: SGD\n",
      "Función de pérdida: cross_entropy\n",
      "Función de cálculo de métricas: accuracy\n",
      "Cantidad de parámetros: 8594\n"
     ]
    }
   ],
   "source": [
    "model = NeuralNetwork(\n",
    "    layers=(\n",
    "        layers.Conv2D(input_shape=(1, 28, 28), filters=4, filter_size=3, activation=ReLU(), padding='valid'),\n",
    "        layers.MaxPool2D(pool_size=3),\n",
    "        # layers.Conv2D(filters=64, filter_size=3, activation=ReLU(), padding='same'),\n",
    "        # layers.MaxPool2D(pool_size=2, stride=2),\n",
    "        layers.Flatten(),\n",
    "        layers.Dense(neurons=32, activation=ReLU()),\n",
    "        layers.Dense(neurons=10, activation=Softmax())\n",
    "    ), \n",
    "    optimizer=SGD(learning_rate=0.001), \n",
    "    loss=cross_entropy, metrics=accuracy)\n",
    "\n",
    "model.compile()\n",
    "model.summary()"
   ]
  },
  {
   "cell_type": "code",
   "execution_count": null,
   "metadata": {},
   "outputs": [],
   "source": [
    "# model._forward(np.random.rand(1, 28, 28))\n",
    "preds = model._forward(np.random.rand(1, 28, 28))\n",
    "labels = np.random.randint(0, 10, size=(1, 10))\n",
    "first_grads = preds - labels\n",
    "grads = model._backward(first_grads)\n",
    "\n",
    "# params = self.get_params()\n",
    "# params = self.optimizer(params, grads)"
   ]
  }
 ],
 "metadata": {
  "kernelspec": {
   "display_name": "venv",
   "language": "python",
   "name": "python3"
  },
  "language_info": {
   "codemirror_mode": {
    "name": "ipython",
    "version": 3
   },
   "file_extension": ".py",
   "mimetype": "text/x-python",
   "name": "python",
   "nbconvert_exporter": "python",
   "pygments_lexer": "ipython3",
   "version": "3.12.0"
  }
 },
 "nbformat": 4,
 "nbformat_minor": 2
}
